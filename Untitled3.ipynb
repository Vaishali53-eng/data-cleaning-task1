{
  "nbformat": 4,
  "nbformat_minor": 0,
  "metadata": {
    "colab": {
      "provenance": [],
      "authorship_tag": "ABX9TyMKZL3u8KY3c2DP1JQz2MQm",
      "include_colab_link": true
    },
    "kernelspec": {
      "name": "python3",
      "display_name": "Python 3"
    },
    "language_info": {
      "name": "python"
    }
  },
  "cells": [
    {
      "cell_type": "markdown",
      "metadata": {
        "id": "view-in-github",
        "colab_type": "text"
      },
      "source": [
        "<a href=\"https://colab.research.google.com/github/Vaishali53-eng/data-cleaning-task1/blob/main/Untitled3.ipynb\" target=\"_parent\"><img src=\"https://colab.research.google.com/assets/colab-badge.svg\" alt=\"Open In Colab\"/></a>"
      ]
    },
    {
      "cell_type": "code",
      "execution_count": 72,
      "metadata": {
        "id": "hrzOu3et8aEZ"
      },
      "outputs": [],
      "source": [
        "import pandas as pd"
      ]
    },
    {
      "cell_type": "code",
      "source": [
        "df = pd.read_csv(\"cleaned_marketing_campaign.csv\")\n"
      ],
      "metadata": {
        "id": "EaKstl27_61v"
      },
      "execution_count": 73,
      "outputs": []
    },
    {
      "cell_type": "code",
      "source": [
        "df.columns = df.columns.str.replace(r'\\s+', '_', regex=True).str.strip().str.lower()"
      ],
      "metadata": {
        "id": "mTIMRnsPJ4Vr"
      },
      "execution_count": 74,
      "outputs": []
    },
    {
      "cell_type": "code",
      "source": [
        "#print to confirm column names\n",
        "print(df.columns.tolist())     # confirm 'education' and 'marital_status' exist"
      ],
      "metadata": {
        "colab": {
          "base_uri": "https://localhost:8080/"
        },
        "id": "6pGh1pCyD5zz",
        "outputId": "e78e7364-0c87-4855-d455-2cd63aa6db78"
      },
      "execution_count": 75,
      "outputs": [
        {
          "output_type": "stream",
          "name": "stdout",
          "text": [
            "['id', 'year_birth', 'education', 'marital_status', 'income', 'kidhome', 'teenhome', 'dt_customer', 'recency', 'mntwines', 'mntfruits', 'mntmeatproducts', 'mntfishproducts', 'mntsweetproducts', 'mntgoldprods', 'numdealspurchases', 'numwebpurchases', 'numcatalogpurchases', 'numstorepurchases', 'numwebvisitsmonth', 'acceptedcmp1', 'acceptedcmp2', 'acceptedcmp3', 'acceptedcmp4', 'acceptedcmp5', 'complain', 'z_costcontact', 'z_revenue', 'response', 'age', 'total_spent']\n"
          ]
        }
      ]
    },
    {
      "cell_type": "code",
      "source": [
        "#check for missing values\n",
        "df.isnull().sum()\n",
        "df = df.dropna()  #OR fill with mean/median if needed"
      ],
      "metadata": {
        "id": "QPQJ505V_7Th"
      },
      "execution_count": 63,
      "outputs": []
    },
    {
      "cell_type": "code",
      "source": [
        "#Remove Duplicate Rows\n",
        "df = df.drop_duplicates()"
      ],
      "metadata": {
        "id": "Up9Zxhtw_7jJ"
      },
      "execution_count": 64,
      "outputs": []
    },
    {
      "cell_type": "code",
      "source": [
        "#Standardize Text Values\n",
        "df['education'] = df['education'].str.lower().str.strip()\n",
        "df['marital_status'] = df['marital_status'].str.lower().str.strip()"
      ],
      "metadata": {
        "id": "UPNiMx_K_7xN"
      },
      "execution_count": 76,
      "outputs": []
    },
    {
      "cell_type": "markdown",
      "source": [],
      "metadata": {
        "id": "LPfThIK9CLAJ"
      }
    },
    {
      "cell_type": "code",
      "source": [
        "#Convert date column\n",
        "df['dt_customer']= pd.to_datetime(df['dt_customer'], format='%Y-%m-%d', errors='coerce')\n"
      ],
      "metadata": {
        "id": "Dapigj5KSzAx"
      },
      "execution_count": 77,
      "outputs": []
    },
    {
      "cell_type": "code",
      "source": [
        "#Crete derived columns\n",
        "df['age'] = 2025 - df['year_birth']\n",
        "spending_cols = ['mntwines', 'mntfruits', 'mntmeatproducts', 'mntfishproducts', 'mntsweetproducts', 'mntgoldprods']\n",
        "df['total_spent'] = df[spending_cols].sum(axis=1)"
      ],
      "metadata": {
        "id": "n0Ihj335TbWe"
      },
      "execution_count": 79,
      "outputs": []
    },
    {
      "cell_type": "code",
      "source": [
        "#Drop irrelevent columns\n",
        "df = df.drop(columns=['id', 'z_costcontact', 'z_revenue'], errors='ignore')"
      ],
      "metadata": {
        "id": "hcAnmWhBUmsf"
      },
      "execution_count": 80,
      "outputs": []
    },
    {
      "cell_type": "code",
      "source": [
        "#Export cleaned data\n",
        "df.to_csv(\"final_cleaned_marketing_campaign.csv\", index=False)\n",
        "\n",
        "print(\"Cleaning completed successfully!\")"
      ],
      "metadata": {
        "colab": {
          "base_uri": "https://localhost:8080/"
        },
        "id": "my5WYzZiVEYU",
        "outputId": "f44f8eff-8ff5-4174-db88-f30b9690d531"
      },
      "execution_count": 81,
      "outputs": [
        {
          "output_type": "stream",
          "name": "stdout",
          "text": [
            "Cleaning completed successfully!\n"
          ]
        }
      ]
    }
  ]
}